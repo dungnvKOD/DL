{
 "nbformat": 4,
 "nbformat_minor": 0,
 "metadata": {
  "colab": {
   "name": "DogsvCat.ipynb",
   "version": "0.3.2",
   "provenance": [],
   "private_outputs": true,
   "include_colab_link": true
  },
  "kernelspec": {
   "name": "python3",
   "language": "python",
   "display_name": "Python 3"
  },
  "pycharm": {
   "stem_cell": {
    "cell_type": "raw",
    "source": [],
    "metadata": {
     "collapsed": false
    }
   }
  }
 },
 "cells": [
  {
   "cell_type": "markdown",
   "metadata": {
    "id": "view-in-github",
    "colab_type": "text"
   },
   "source": [
    "<a href=\"https://colab.research.google.com/github/dungnvKOD/DL/blob/master/src/dogcat/DogsvCat.ipynb\" target=\"_parent\"><img src=\"https://colab.research.google.com/assets/colab-badge.svg\" alt=\"Open In Colab\"/></a>"
   ]
  },
  {
   "cell_type": "code",
   "metadata": {
    "id": "xKbjAQz5_lcP",
    "colab_type": "code",
    "colab": {}
   },
   "source": [
    "import tensorflow as tf\n",
    "from keras.models import Sequential\n",
    "from keras.layers import Conv2D\n",
    "from keras.layers import MaxPooling2D\n",
    "from keras.layers import Flatten\n",
    "from keras.layers import Dense\n",
    "import os\n",
    "import zipfile\n",
    "print(\"dung\")\n"
   ],
   "execution_count": 0,
   "outputs": []
  },
  {
   "cell_type": "code",
   "metadata": {
    "id": "S_BNulofBeli",
    "colab_type": "code",
    "colab": {}
   },
   "source": [
    "!wget --no-check-certificate \\\n",
    "    https://storage.googleapis.com/mledu-datasets/cats_and_dogs_filtered.zip \\\n",
    "    -O /tmp/cats_and_dogs_filtered.zip"
   ],
   "execution_count": 0,
   "outputs": []
  },
  {
   "cell_type": "code",
   "metadata": {
    "id": "UxgjG1gHB3HL",
    "colab_type": "code",
    "colab": {}
   },
   "source": [
    "loacl_zip='/tmp/cat_and_dog_filtered.zip'\n",
    "zip_ref=zipfile.ZipFile(loacl_zip,'r')\n",
    "zip_ref.extractall('/tmp')\n",
    "zip_ref.close()\n"
   ],
   "execution_count": 0,
   "outputs": []
  },
  {
   "cell_type": "code",
   "execution_count": null,
   "outputs": [],
   "source": [
    "base_dir='/tmp/cats_and_dogs_filtered'\n",
    "train_dir=os.path.join(base_dir,'train')\n",
    "validation_dir=os.path.join(base_dir,'validation')\n",
    "\n",
    "# thuw muc voi cat training\n",
    "train_cats_dir=os.path.join(train_dir,'cats')\n",
    "# data traning dog\n",
    "train_dogs_dir=os.path.join(train_dir,'dogs')\n",
    "\n"
   ],
   "metadata": {
    "collapsed": false,
    "pycharm": {
     "name": "#%%\n"
    }
   }
  }
 ]
}