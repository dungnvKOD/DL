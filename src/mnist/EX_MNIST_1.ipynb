{
 "cells": [
  {
   "cell_type": "markdown",
   "metadata": {
    "colab_type": "text",
    "id": "view-in-github",
    "pycharm": {}
   },
   "source": [
    "<a href=\"https://colab.research.google.com/github/dungnvKOD/DL/blob/master/src/mnist/EX_MNIST_1.ipynb\" target=\"_parent\"><img src=\"https://colab.research.google.com/assets/colab-badge.svg\" alt=\"Open In Colab\"/></a>"
   ]
  },
  {
   "cell_type": "code",
   "execution_count": 1,
   "metadata": {
    "colab": {
     "base_uri": "https://localhost:8080/",
     "height": 34
    },
    "colab_type": "code",
    "id": "NVNHyZeZqTcf",
    "outputId": "d7537624-5af0-4ecb-cd84-976c856310a6",
    "pycharm": {}
   },
   "outputs": [
    {
     "name": "stderr",
     "output_type": "stream",
     "text": [
      "Using TensorFlow backend.\n"
     ]
    }
   ],
   "source": [
    "import cv2\n",
    "import tensorflow as tf\n",
    "from keras.models import Sequential\n",
    "from keras.layers import Conv2D\n",
    "from keras.layers import MaxPool2D\n",
    "from keras.layers import Flatten\n",
    "from keras.layers import Dense\n",
    "from keras.utils import to_categorical\n",
    "from keras.datasets.mnist import load_data\n",
    "from keras.optimizers import SGD\n",
    "import cv2\n",
    "import matplotlib.pyplot as plt"
   ]
  },
  {
   "cell_type": "code",
   "execution_count": null,
   "metadata": {
    "colab": {
     "base_uri": "https://localhost:8080/",
     "height": 320
    },
    "colab_type": "code",
    "id": "3gtsjFfGvAM3",
    "outputId": "c44b63b9-f8bd-4c0b-a418-012d098a2361",
    "pycharm": {}
   },
   "outputs": [],
   "source": [
    "\n",
    "\n",
    "\n",
    "(X_train,y_train),(X_test,y_test)=load_data()\n",
    "\n",
    "print(X_train.shape)\n",
    "\n",
    "for i in range(9):\n",
    "    plt.subplot(330+1+i)\n",
    "    plt.imshow(X_train[i])\n",
    "plt.show()\n",
    "\n",
    "\n",
    "img=cv2.imread('../data/smr.JPG')\n",
    "cv2.imshow('dung',img)\n",
    "cv2.waitKey()\n",
    "cv2.destroyWindow()\n",
    "\n"
   ]
  },
  {
   "cell_type": "code",
   "execution_count": 0,
   "metadata": {
    "colab": {},
    "colab_type": "code",
    "id": "gNy9TE1a0zND",
    "pycharm": {}
   },
   "outputs": [],
   "source": [
    "def load_dataset():\n",
    "    (X_train,y_train),(X_test,y_test)=load_data()\n",
    "    y_train=to_categorical(y_train,num_classes=10)\n",
    "    y_test=to_categorical(y_test,num_classes=10)\n",
    "    return X_train,y_train,X_test,y_test\n",
    "    "
   ]
  },
  {
   "cell_type": "code",
   "execution_count": 0,
   "metadata": {
    "colab": {},
    "colab_type": "code",
    "id": "3eXxyY9t2AHV",
    "pycharm": {}
   },
   "outputs": [],
   "source": [
    "def prep_pixel(X_train,X_test):\n",
    "    X_train=X_train.reshape(X_train.shape[0],28,28,1)\n",
    "    X_test=X_test.reshape(X_test.shape[0],28,28,1)\n",
    "    \n",
    "    X_train=X_train.astype('float32')\n",
    "    X_test=X_test.astype('float32')\n",
    "    \n",
    "    X_train=X_train/255.0\n",
    "    X_test=X_test/255.0\n",
    "    return X_train,X_test"
   ]
  },
  {
   "cell_type": "markdown",
   "metadata": {
    "colab_type": "text",
    "id": "i-usH4UR2uJ2",
    "pycharm": {}
   },
   "source": []
  },
  {
   "cell_type": "markdown",
   "metadata": {
    "colab_type": "text",
    "id": "ByucYLVN2ykY",
    "pycharm": {}
   },
   "source": [
    "#  Define model"
   ]
  },
  {
   "cell_type": "code",
   "execution_count": 0,
   "metadata": {
    "colab": {},
    "colab_type": "code",
    "id": "OzL3Jusk22sY",
    "pycharm": {}
   },
   "outputs": [],
   "source": [
    "def define_model():\n",
    "    model=Sequential()\n",
    "    model.add(Conv2D(64,(3,3),activation=tf.nn.relu,kernel_initializer='he_uniform',padding='same',input_shape=(28,28,1)))\n",
    "    model.add(Conv2D(64,(3,3),activation=tf.nn.relu,kernel_initializer='he_uniform',padding='same'))\n",
    "    model.add(MaxPool2D((2,2)))\n",
    "    model.add(Flatten())\n",
    "    \n",
    "    model.add(Dense(128,activation=tf.nn.relu,kernel_initializer='he_uniform'))\n",
    "    model.add(Dense(10,activation=tf.nn.softmax))\n",
    "    \n",
    "    opt=SGD(lr=0.01,momentum=0.9)\n",
    "    \n",
    "    model.compile(optimizer=opt,loss='categorical_crossentropy')\n",
    "    \n",
    "    return model\n",
    "    \n",
    "    "
   ]
  },
  {
   "cell_type": "code",
   "execution_count": 6,
   "metadata": {
    "colab": {
     "base_uri": "https://localhost:8080/",
     "height": 476
    },
    "colab_type": "code",
    "id": "zHQsFxDz51Z7",
    "outputId": "031da6b5-7e60-45ba-bc7d-19bceeb04b0e",
    "pycharm": {}
   },
   "outputs": [
    {
     "name": "stdout",
     "output_type": "stream",
     "text": [
      "WARNING:tensorflow:From /usr/local/lib/python3.6/dist-packages/tensorflow/python/framework/op_def_library.py:263: colocate_with (from tensorflow.python.framework.ops) is deprecated and will be removed in a future version.\n",
      "Instructions for updating:\n",
      "Colocations handled automatically by placer.\n",
      "WARNING:tensorflow:From /usr/local/lib/python3.6/dist-packages/tensorflow/python/ops/math_ops.py:3066: to_int32 (from tensorflow.python.ops.math_ops) is deprecated and will be removed in a future version.\n",
      "Instructions for updating:\n",
      "Use tf.cast instead.\n",
      "Train on 60000 samples, validate on 10000 samples\n",
      "Epoch 1/10\n",
      "60000/60000 [==============================] - 16s 266us/step - loss: 0.1169 - val_loss: 0.0420\n",
      "Epoch 2/10\n",
      "60000/60000 [==============================] - 10s 175us/step - loss: 0.0383 - val_loss: 0.0355\n",
      "Epoch 3/10\n",
      "60000/60000 [==============================] - 10s 174us/step - loss: 0.0214 - val_loss: 0.0327\n",
      "Epoch 4/10\n",
      "60000/60000 [==============================] - 10s 171us/step - loss: 0.0135 - val_loss: 0.0399\n",
      "Epoch 5/10\n",
      "60000/60000 [==============================] - 10s 174us/step - loss: 0.0084 - val_loss: 0.0380\n",
      "Epoch 6/10\n",
      "60000/60000 [==============================] - 10s 173us/step - loss: 0.0060 - val_loss: 0.0485\n",
      "Epoch 7/10\n",
      "60000/60000 [==============================] - 10s 170us/step - loss: 0.0030 - val_loss: 0.0329\n",
      "Epoch 8/10\n",
      "60000/60000 [==============================] - 10s 166us/step - loss: 0.0015 - val_loss: 0.0374\n",
      "Epoch 9/10\n",
      "60000/60000 [==============================] - 10s 166us/step - loss: 8.6015e-04 - val_loss: 0.0375\n",
      "Epoch 10/10\n",
      "60000/60000 [==============================] - 10s 165us/step - loss: 4.7789e-04 - val_loss: 0.0374\n"
     ]
    }
   ],
   "source": [
    "\n",
    "X_train,y_train,X_test,y_test=load_dataset()\n",
    "\n",
    "X_train,X_test=prep_pixel(X_train,X_test)\n",
    "\n",
    "\n",
    "model=define_model()\n",
    "history=model.fit(X_train, y_train, validation_data=(X_test, y_test),\n",
    "          batch_size=32, epochs=10, verbose=1)\n",
    "\n",
    "\n",
    "print(\"dung....\")"
   ]
  },
  {
   "cell_type": "code",
   "execution_count": 0,
   "metadata": {
    "colab": {},
    "colab_type": "code",
    "id": "rBNh2I1b8Kyl",
    "pycharm": {}
   },
   "outputs": [],
   "source": [
    "\n"
   ]
  }
 ],
 "metadata": {
  "accelerator": "GPU",
  "colab": {
   "include_colab_link": true,
   "name": "EX_MNIST_1.ipynb",
   "provenance": [],
   "version": "0.3.2"
  },
  "kernelspec": {
   "display_name": "Python 3",
   "language": "python",
   "name": "python3"
  },
  "language_info": {
   "codemirror_mode": {
    "name": "ipython",
    "version": 3
   },
   "file_extension": ".py",
   "mimetype": "text/x-python",
   "name": "python",
   "nbconvert_exporter": "python",
   "pygments_lexer": "ipython3",
   "version": "3.7.3"
  }
 },
 "nbformat": 4,
 "nbformat_minor": 1
}
